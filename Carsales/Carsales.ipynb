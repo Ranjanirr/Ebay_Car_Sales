{
 "cells": [
  {
   "cell_type": "markdown",
   "id": "2c52e733",
   "metadata": {},
   "source": [
    "## EBay Automobile Sales Analysis\n",
    "\n",
    "This is an analytical project for the eBay Kleinanzeigen data with each row containing a sale of a car. Each row has multiple attributes of the sale, which are seen below"
   ]
  },
  {
   "cell_type": "code",
   "execution_count": 2,
   "id": "a2c5a538",
   "metadata": {},
   "outputs": [],
   "source": [
    "\n",
    "import pandas as pd\n",
    "autos = pd.read_csv(\"data/autos.csv\", encoding=\"latin1\")"
   ]
  },
  {
   "cell_type": "code",
   "execution_count": 3,
   "id": "adbe8657",
   "metadata": {
    "scrolled": true
   },
   "outputs": [
    {
     "data": {
      "text/html": [
       "<div>\n",
       "<style scoped>\n",
       "    .dataframe tbody tr th:only-of-type {\n",
       "        vertical-align: middle;\n",
       "    }\n",
       "\n",
       "    .dataframe tbody tr th {\n",
       "        vertical-align: top;\n",
       "    }\n",
       "\n",
       "    .dataframe thead th {\n",
       "        text-align: right;\n",
       "    }\n",
       "</style>\n",
       "<table border=\"1\" class=\"dataframe\">\n",
       "  <thead>\n",
       "    <tr style=\"text-align: right;\">\n",
       "      <th></th>\n",
       "      <th>yearOfRegistration</th>\n",
       "      <th>powerPS</th>\n",
       "      <th>monthOfRegistration</th>\n",
       "      <th>nrOfPictures</th>\n",
       "      <th>postalCode</th>\n",
       "    </tr>\n",
       "  </thead>\n",
       "  <tbody>\n",
       "    <tr>\n",
       "      <th>count</th>\n",
       "      <td>50000.000000</td>\n",
       "      <td>50000.000000</td>\n",
       "      <td>50000.000000</td>\n",
       "      <td>50000.0</td>\n",
       "      <td>50000.000000</td>\n",
       "    </tr>\n",
       "    <tr>\n",
       "      <th>mean</th>\n",
       "      <td>2005.073280</td>\n",
       "      <td>116.355920</td>\n",
       "      <td>5.723360</td>\n",
       "      <td>0.0</td>\n",
       "      <td>50813.627300</td>\n",
       "    </tr>\n",
       "    <tr>\n",
       "      <th>std</th>\n",
       "      <td>105.712813</td>\n",
       "      <td>209.216627</td>\n",
       "      <td>3.711984</td>\n",
       "      <td>0.0</td>\n",
       "      <td>25779.747957</td>\n",
       "    </tr>\n",
       "    <tr>\n",
       "      <th>min</th>\n",
       "      <td>1000.000000</td>\n",
       "      <td>0.000000</td>\n",
       "      <td>0.000000</td>\n",
       "      <td>0.0</td>\n",
       "      <td>1067.000000</td>\n",
       "    </tr>\n",
       "    <tr>\n",
       "      <th>25%</th>\n",
       "      <td>1999.000000</td>\n",
       "      <td>70.000000</td>\n",
       "      <td>3.000000</td>\n",
       "      <td>0.0</td>\n",
       "      <td>30451.000000</td>\n",
       "    </tr>\n",
       "    <tr>\n",
       "      <th>50%</th>\n",
       "      <td>2003.000000</td>\n",
       "      <td>105.000000</td>\n",
       "      <td>6.000000</td>\n",
       "      <td>0.0</td>\n",
       "      <td>49577.000000</td>\n",
       "    </tr>\n",
       "    <tr>\n",
       "      <th>75%</th>\n",
       "      <td>2008.000000</td>\n",
       "      <td>150.000000</td>\n",
       "      <td>9.000000</td>\n",
       "      <td>0.0</td>\n",
       "      <td>71540.000000</td>\n",
       "    </tr>\n",
       "    <tr>\n",
       "      <th>max</th>\n",
       "      <td>9999.000000</td>\n",
       "      <td>17700.000000</td>\n",
       "      <td>12.000000</td>\n",
       "      <td>0.0</td>\n",
       "      <td>99998.000000</td>\n",
       "    </tr>\n",
       "  </tbody>\n",
       "</table>\n",
       "</div>"
      ],
      "text/plain": [
       "       yearOfRegistration       powerPS  monthOfRegistration  nrOfPictures  \\\n",
       "count        50000.000000  50000.000000         50000.000000       50000.0   \n",
       "mean          2005.073280    116.355920             5.723360           0.0   \n",
       "std            105.712813    209.216627             3.711984           0.0   \n",
       "min           1000.000000      0.000000             0.000000           0.0   \n",
       "25%           1999.000000     70.000000             3.000000           0.0   \n",
       "50%           2003.000000    105.000000             6.000000           0.0   \n",
       "75%           2008.000000    150.000000             9.000000           0.0   \n",
       "max           9999.000000  17700.000000            12.000000           0.0   \n",
       "\n",
       "         postalCode  \n",
       "count  50000.000000  \n",
       "mean   50813.627300  \n",
       "std    25779.747957  \n",
       "min     1067.000000  \n",
       "25%    30451.000000  \n",
       "50%    49577.000000  \n",
       "75%    71540.000000  \n",
       "max    99998.000000  "
      ]
     },
     "execution_count": 3,
     "metadata": {},
     "output_type": "execute_result"
    }
   ],
   "source": [
    "autos.describe()"
   ]
  },
  {
   "cell_type": "code",
   "execution_count": 4,
   "id": "a151ea0f",
   "metadata": {},
   "outputs": [
    {
     "data": {
      "text/plain": [
       "Index(['dateCrawled', 'name', 'seller', 'offerType', 'price', 'abtest',\n",
       "       'vehicleType', 'yearOfRegistration', 'gearbox', 'powerPS', 'model',\n",
       "       'odometer', 'monthOfRegistration', 'fuelType', 'brand',\n",
       "       'notRepairedDamage', 'dateCreated', 'nrOfPictures', 'postalCode',\n",
       "       'lastSeen'],\n",
       "      dtype='object')"
      ]
     },
     "execution_count": 4,
     "metadata": {},
     "output_type": "execute_result"
    }
   ],
   "source": [
    "autos.columns"
   ]
  },
  {
   "cell_type": "code",
   "execution_count": 5,
   "id": "696eebc7",
   "metadata": {},
   "outputs": [],
   "source": [
    "new_columns = ['ad_created', 'name', 'seller', 'offer_type', 'price', 'abtest',\n",
    "       'vehicle_type', 'registration_year', 'gearbox', 'power_PS', 'model',\n",
    "       'odometer', 'registration_month', 'fuel_type', 'brand',\n",
    "       'unrepaired_damage', 'dateCreated', 'nr_of_pictures', 'postal_code',\n",
    "       'last_seen']\n",
    "autos.columns = new_columns"
   ]
  },
  {
   "cell_type": "markdown",
   "id": "48805a43",
   "metadata": {},
   "source": [
    "I have changed the column names to a more snake case friendly type, because that is more python preferrable"
   ]
  },
  {
   "cell_type": "code",
   "execution_count": 6,
   "id": "8f483aa2",
   "metadata": {},
   "outputs": [
    {
     "name": "stdout",
     "output_type": "stream",
     "text": [
      "0    $5,000\n",
      "1    $8,500\n",
      "2    $8,990\n",
      "3    $4,350\n",
      "4    $1,350\n",
      "Name: price, dtype: object\n"
     ]
    }
   ],
   "source": [
    "print(autos[\"price\"].head())"
   ]
  },
  {
   "cell_type": "code",
   "execution_count": 7,
   "id": "d51b115e",
   "metadata": {},
   "outputs": [
    {
     "name": "stdout",
     "output_type": "stream",
     "text": [
      "0    5000.0\n",
      "1    8500.0\n",
      "2    8990.0\n",
      "3    4350.0\n",
      "4    1350.0\n",
      "Name: price, dtype: float64\n"
     ]
    },
    {
     "name": "stderr",
     "output_type": "stream",
     "text": [
      "/var/folders/gj/5h25r9v50qg83dm7hjlq64w40000gn/T/ipykernel_29735/2692191111.py:1: FutureWarning: The default value of regex will change from True to False in a future version. In addition, single character regular expressions will *not* be treated as literal strings when regex=True.\n",
      "  autos[\"price\"] = autos[\"price\"].str.replace(\"$\", \"\")\n"
     ]
    }
   ],
   "source": [
    "autos[\"price\"] = autos[\"price\"].str.replace(\"$\", \"\")\n",
    "autos[\"price\"] = autos[\"price\"].str.replace(\",\", \"\")\n",
    "autos[\"price\"] = autos[\"price\"].astype(float)\n",
    "print(autos[\"price\"].head())"
   ]
  },
  {
   "cell_type": "markdown",
   "id": "59387fb7",
   "metadata": {},
   "source": [
    "Cleaned the price column to make it floats"
   ]
  },
  {
   "cell_type": "code",
   "execution_count": 8,
   "id": "eb63d889",
   "metadata": {},
   "outputs": [
    {
     "name": "stdout",
     "output_type": "stream",
     "text": [
      "0    150,000km\n",
      "1    150,000km\n",
      "2     70,000km\n",
      "3     70,000km\n",
      "4    150,000km\n",
      "Name: odometer, dtype: object\n"
     ]
    }
   ],
   "source": [
    "print(autos[\"odometer\"].head())"
   ]
  },
  {
   "cell_type": "code",
   "execution_count": 9,
   "id": "916e90ac",
   "metadata": {},
   "outputs": [],
   "source": [
    "autos[\"odometer\"] = autos[\"odometer\"].str.replace(\"km\", \"\")\n",
    "autos[\"odometer\"] = autos[\"odometer\"].str.replace(\",\", \"\")\n",
    "autos[\"odometer\"] = autos[\"odometer\"].astype(float)"
   ]
  },
  {
   "cell_type": "markdown",
   "id": "e914eb93",
   "metadata": {},
   "source": [
    "Also made odometer a float (without km) to make it easier to analyze"
   ]
  },
  {
   "cell_type": "code",
   "execution_count": 10,
   "id": "d2a1c99f",
   "metadata": {},
   "outputs": [],
   "source": [
    "autos.rename({\"odometer\": \"odometer_km\"}, axis=1, inplace=True)"
   ]
  },
  {
   "cell_type": "code",
   "execution_count": 11,
   "id": "91d54db4",
   "metadata": {},
   "outputs": [
    {
     "name": "stdout",
     "output_type": "stream",
     "text": [
      "count     50000.000000\n",
      "mean     125732.700000\n",
      "std       40042.211706\n",
      "min        5000.000000\n",
      "25%      125000.000000\n",
      "50%      150000.000000\n",
      "75%      150000.000000\n",
      "max      150000.000000\n",
      "Name: odometer_km, dtype: float64\n",
      "________________________\n"
     ]
    },
    {
     "data": {
      "text/plain": [
       "150000.0    32424\n",
       "125000.0     5170\n",
       "100000.0     2169\n",
       "90000.0      1757\n",
       "80000.0      1436\n",
       "70000.0      1230\n",
       "60000.0      1164\n",
       "50000.0      1027\n",
       "5000.0        967\n",
       "40000.0       819\n",
       "30000.0       789\n",
       "20000.0       784\n",
       "10000.0       264\n",
       "Name: odometer_km, dtype: int64"
      ]
     },
     "execution_count": 11,
     "metadata": {},
     "output_type": "execute_result"
    }
   ],
   "source": [
    "print(autos[\"odometer_km\"].describe())\n",
    "print(\"________________________\")\n",
    "autos[\"odometer_km\"].value_counts(ascending=False)"
   ]
  },
  {
   "cell_type": "markdown",
   "id": "1de7fe9a",
   "metadata": {},
   "source": [
    "Because this is eBay, famous for used items at a low price, it is no wonder that majority of cars are at the maximum kilometers"
   ]
  },
  {
   "cell_type": "code",
   "execution_count": 12,
   "id": "a4c4eab9",
   "metadata": {},
   "outputs": [
    {
     "name": "stdout",
     "output_type": "stream",
     "text": [
      "count    5.000000e+04\n",
      "mean     9.840044e+03\n",
      "std      4.811044e+05\n",
      "min      0.000000e+00\n",
      "25%      1.100000e+03\n",
      "50%      2.950000e+03\n",
      "75%      7.200000e+03\n",
      "max      1.000000e+08\n",
      "Name: price, dtype: float64\n",
      "________________________\n"
     ]
    },
    {
     "data": {
      "text/plain": [
       "0.0       1421\n",
       "500.0      781\n",
       "1500.0     734\n",
       "2500.0     643\n",
       "1000.0     639\n",
       "1200.0     639\n",
       "600.0      531\n",
       "800.0      498\n",
       "3500.0     498\n",
       "2000.0     460\n",
       "999.0      434\n",
       "750.0      433\n",
       "900.0      420\n",
       "650.0      419\n",
       "850.0      410\n",
       "700.0      395\n",
       "4500.0     394\n",
       "300.0      384\n",
       "2200.0     382\n",
       "950.0      379\n",
       "Name: price, dtype: int64"
      ]
     },
     "execution_count": 12,
     "metadata": {},
     "output_type": "execute_result"
    }
   ],
   "source": [
    "print(autos[\"price\"].describe())\n",
    "print(\"________________________\")\n",
    "autos[\"price\"].value_counts(ascending=False).head(20)"
   ]
  },
  {
   "cell_type": "markdown",
   "id": "439b7433",
   "metadata": {},
   "source": [
    "I will remove cars greater than 30,000 dollars because that is a reasonable range where only outliers will get nixed. The mean (9480) is much greater than the median (2950) which means outliers at the upper end significantly affect the data"
   ]
  },
  {
   "cell_type": "code",
   "execution_count": 13,
   "id": "760234bf",
   "metadata": {},
   "outputs": [],
   "source": [
    "autos = autos[autos[\"price\"] < 30000]"
   ]
  },
  {
   "cell_type": "code",
   "execution_count": 14,
   "id": "501cf7b8",
   "metadata": {},
   "outputs": [
    {
     "name": "stdout",
     "output_type": "stream",
     "text": [
      "count    49196.000000\n",
      "mean      5020.697008\n",
      "std       5668.557303\n",
      "min          0.000000\n",
      "25%       1100.000000\n",
      "50%       2850.000000\n",
      "75%       6900.000000\n",
      "max      29999.000000\n",
      "Name: price, dtype: float64\n",
      "________________________\n"
     ]
    },
    {
     "data": {
      "text/plain": [
       "0.0       1421\n",
       "500.0      781\n",
       "1500.0     734\n",
       "2500.0     643\n",
       "1000.0     639\n",
       "1200.0     639\n",
       "600.0      531\n",
       "3500.0     498\n",
       "800.0      498\n",
       "2000.0     460\n",
       "999.0      434\n",
       "750.0      433\n",
       "900.0      420\n",
       "650.0      419\n",
       "850.0      410\n",
       "700.0      395\n",
       "4500.0     394\n",
       "300.0      384\n",
       "2200.0     382\n",
       "950.0      379\n",
       "Name: price, dtype: int64"
      ]
     },
     "execution_count": 14,
     "metadata": {},
     "output_type": "execute_result"
    }
   ],
   "source": [
    "print(autos[\"price\"].describe())\n",
    "print(\"________________________\")\n",
    "autos[\"price\"].value_counts(ascending=False).head(20)"
   ]
  },
  {
   "cell_type": "markdown",
   "id": "b90110fe",
   "metadata": {},
   "source": [
    "Taking out extreme outliers reduced the mean from ____ to _____. The mean is still much higher than the median, but if I remove more data, I will alter the dataset to cut off more than 1/5 of the data. "
   ]
  },
  {
   "cell_type": "code",
   "execution_count": 15,
   "id": "544696a6",
   "metadata": {},
   "outputs": [
    {
     "name": "stdout",
     "output_type": "stream",
     "text": [
      "count     49196.000000\n",
      "mean     126783.783234\n",
      "std       39115.978115\n",
      "min        5000.000000\n",
      "25%      125000.000000\n",
      "50%      150000.000000\n",
      "75%      150000.000000\n",
      "max      150000.000000\n",
      "Name: odometer_km, dtype: float64\n",
      "________________________\n"
     ]
    },
    {
     "data": {
      "text/plain": [
       "150000.0    32344\n",
       "125000.0     5124\n",
       "100000.0     2120\n",
       "90000.0      1713\n",
       "80000.0      1393\n",
       "70000.0      1178\n",
       "60000.0      1103\n",
       "50000.0       947\n",
       "5000.0        919\n",
       "40000.0       746\n",
       "30000.0       711\n",
       "20000.0       681\n",
       "10000.0       217\n",
       "Name: odometer_km, dtype: int64"
      ]
     },
     "execution_count": 15,
     "metadata": {},
     "output_type": "execute_result"
    }
   ],
   "source": [
    "print(autos[\"odometer_km\"].describe())\n",
    "print(\"________________________\")\n",
    "autos[\"odometer_km\"].value_counts(ascending=False).head(20)"
   ]
  },
  {
   "cell_type": "markdown",
   "id": "eb0f4763",
   "metadata": {},
   "source": [
    "This one is kind of hard to nix out outliers because there are quite a few at both extremes, 150000 and 0. If I even remove the bottom most the count drops by 4000, plus 0 km on the odometer has a meaning that the car is new. The reason so many are at the top of the limit (150000) is because it is eBay, which means that people have used their cars at the max and want to sell for an extremely low price at times "
   ]
  },
  {
   "cell_type": "code",
   "execution_count": 16,
   "id": "d8eade43",
   "metadata": {},
   "outputs": [
    {
     "name": "stdout",
     "output_type": "stream",
     "text": [
      "count    49196.000000\n",
      "mean      2004.933877\n",
      "std        104.870497\n",
      "min       1000.000000\n",
      "25%       1999.000000\n",
      "50%       2003.000000\n",
      "75%       2008.000000\n",
      "max       9999.000000\n",
      "Name: registration_year, dtype: float64\n"
     ]
    }
   ],
   "source": [
    "print(autos[\"registration_year\"].describe())"
   ]
  },
  {
   "cell_type": "markdown",
   "id": "c986ad61",
   "metadata": {},
   "source": [
    "For describing the registration year, mean was 2005 and median was 2003. There was min at year 1000. Is that a mistake?"
   ]
  },
  {
   "cell_type": "code",
   "execution_count": 17,
   "id": "90342444",
   "metadata": {},
   "outputs": [
    {
     "name": "stdout",
     "output_type": "stream",
     "text": [
      "32\n"
     ]
    }
   ],
   "source": [
    "print(len(autos[autos[\"registration_year\"]<=1950]))"
   ]
  },
  {
   "cell_type": "code",
   "execution_count": 18,
   "id": "286289a3",
   "metadata": {},
   "outputs": [],
   "source": [
    "registration_less= autos[\"registration_year\"]<2016\n",
    "registration_greater = autos[\"registration_year\"]>=1950\n",
    "registration_bool = registration_less & registration_greater\n",
    "autos = autos[registration_bool]"
   ]
  },
  {
   "cell_type": "code",
   "execution_count": 19,
   "id": "17ceee4c",
   "metadata": {},
   "outputs": [
    {
     "name": "stdout",
     "output_type": "stream",
     "text": [
      "count    45914.000000\n",
      "mean      2002.374308\n",
      "std          6.708350\n",
      "min       1950.000000\n",
      "25%       1999.000000\n",
      "50%       2003.000000\n",
      "75%       2007.000000\n",
      "max       2015.000000\n",
      "Name: registration_year, dtype: float64\n"
     ]
    }
   ],
   "source": [
    "print(autos[\"registration_year\"].describe())"
   ]
  },
  {
   "cell_type": "markdown",
   "id": "a058010d",
   "metadata": {},
   "source": [
    "After taking out the registration year before 1950 and after 2016, the cars still have a close to original count, mean and median remain nearly the same"
   ]
  },
  {
   "cell_type": "code",
   "execution_count": 20,
   "id": "c3ab0e49",
   "metadata": {},
   "outputs": [
    {
     "name": "stdout",
     "output_type": "stream",
     "text": [
      "['peugeot' 'bmw' 'volkswagen' 'smart' 'ford' 'chrysler' 'seat' 'renault'\n",
      " 'mercedes_benz' 'audi' 'sonstige_autos' 'opel' 'mazda' 'mini' 'toyota'\n",
      " 'dacia' 'nissan' 'jeep' 'saab' 'volvo' 'mitsubishi' 'fiat' 'skoda'\n",
      " 'subaru' 'kia' 'citroen' 'porsche' 'hyundai' 'chevrolet' 'honda' 'daewoo'\n",
      " 'suzuki' 'trabant' 'jaguar' 'land_rover' 'alfa_romeo' 'lada' 'rover'\n",
      " 'daihatsu' 'lancia']\n"
     ]
    }
   ],
   "source": [
    "print(autos[\"brand\"].unique())"
   ]
  },
  {
   "cell_type": "code",
   "execution_count": 21,
   "id": "ff8350f5",
   "metadata": {},
   "outputs": [],
   "source": [
    "brand_counts = autos[\"brand\"].value_counts()"
   ]
  },
  {
   "cell_type": "code",
   "execution_count": 22,
   "id": "b3982c45",
   "metadata": {},
   "outputs": [
    {
     "name": "stdout",
     "output_type": "stream",
     "text": [
      "Index(['ad_created', 'name', 'seller', 'offer_type', 'price', 'abtest',\n",
      "       'vehicle_type', 'registration_year', 'gearbox', 'power_PS', 'model',\n",
      "       'odometer_km', 'registration_month', 'fuel_type', 'brand',\n",
      "       'unrepaired_damage', 'dateCreated', 'nr_of_pictures', 'postal_code',\n",
      "       'last_seen'],\n",
      "      dtype='object')\n"
     ]
    }
   ],
   "source": [
    "print(autos.columns)"
   ]
  },
  {
   "cell_type": "code",
   "execution_count": 23,
   "id": "c9c840be",
   "metadata": {},
   "outputs": [],
   "source": [
    "average_price_brand = {}\n",
    "brand = autos[\"brand\"].unique()\n",
    "for b in brand:\n",
    "    selected_rows = autos[autos[\"brand\"] == b]\n",
    "    average_price_brand[b] = round(selected_rows[\"price\"].mean(),2)\n",
    "sorted_prices = sorted(average_price_brand.items(), key=lambda item: item[1])\n",
    "    "
   ]
  },
  {
   "cell_type": "markdown",
   "id": "660181d8",
   "metadata": {},
   "source": [
    "Makes a dictionary with the keys as brands and the values as averae price per brand, then converts the dictionary into a series"
   ]
  },
  {
   "cell_type": "code",
   "execution_count": 24,
   "id": "8704f8a3",
   "metadata": {},
   "outputs": [],
   "source": [
    "price_brand_series = pd.Series(average_price_brand)"
   ]
  },
  {
   "cell_type": "code",
   "execution_count": 25,
   "id": "4669a816",
   "metadata": {},
   "outputs": [],
   "source": [
    "average_milage_brand = {}\n",
    "brand = autos[\"brand\"].unique()\n",
    "for b in brand:\n",
    "    selected_rows = autos[autos[\"brand\"] == b]\n",
    "    average_milage_brand[b] = round(selected_rows[\"odometer_km\"].mean(),2)\n",
    "milage_series = pd.Series(average_milage_brand)\n"
   ]
  },
  {
   "cell_type": "markdown",
   "id": "7e41e2cb",
   "metadata": {},
   "source": [
    "Does the same as the average price aggregation method, but with making a series of brand by milage"
   ]
  },
  {
   "cell_type": "code",
   "execution_count": 26,
   "id": "43102f30",
   "metadata": {},
   "outputs": [
    {
     "name": "stdout",
     "output_type": "stream",
     "text": [
      "                brand_price     milage\n",
      "peugeot             3073.86  127097.01\n",
      "bmw                 7260.70  134197.63\n",
      "volkswagen          5091.52  128987.03\n",
      "smart               3577.28   98969.23\n",
      "ford                3480.86  124373.45\n",
      "chrysler            3289.43  132790.70\n",
      "seat                4323.80  121389.55\n",
      "renault             2376.43  128151.38\n",
      "mercedes_benz       7367.79  132828.58\n",
      "audi                7807.93  132564.20\n",
      "sonstige_autos      6780.81   90831.56\n",
      "opel                2910.77  129168.34\n",
      "mazda               3886.70  125021.43\n",
      "mini               10379.58   89305.21\n",
      "toyota              5066.61  115814.75\n",
      "dacia               5986.45   84586.78\n",
      "nissan              4669.64  118766.05\n",
      "jeep                8923.01  134432.99\n",
      "saab                3243.68  144342.11\n",
      "volvo               4790.55  138196.35\n",
      "mitsubishi          3233.53  127347.48\n",
      "fiat                2758.18  116040.97\n",
      "skoda               6281.57  111231.88\n",
      "subaru              3569.59  128118.81\n",
      "kia                 5819.73  112707.10\n",
      "citroen             3718.44  119404.95\n",
      "porsche            14648.45  116904.76\n",
      "hyundai             5407.12  105692.64\n",
      "chevrolet           6006.72  100849.06\n",
      "honda               3872.34  122884.62\n",
      "daewoo              1046.14  121642.86\n",
      "suzuki              4046.93  109272.73\n",
      "trabant             1594.40   60547.95\n",
      "jaguar              9277.65  125208.33\n",
      "land_rover         10278.49  135855.26\n",
      "alfa_romeo          3878.98  131548.39\n",
      "lada                2502.90   85517.24\n",
      "rover               1591.81  138387.10\n",
      "daihatsu            1572.44  114917.36\n",
      "lancia              3246.37  122019.23\n"
     ]
    }
   ],
   "source": [
    "df = pd.DataFrame(price_brand_series, columns=['brand_price'])\n",
    "df[\"milage\"] = milage_series\n",
    "\n",
    "print(df)"
   ]
  },
  {
   "cell_type": "markdown",
   "id": "4c5eb027",
   "metadata": {},
   "source": [
    "Makes a dataframe to include both milage and price for each brand"
   ]
  },
  {
   "cell_type": "code",
   "execution_count": 27,
   "id": "41111e6b",
   "metadata": {
    "scrolled": true
   },
   "outputs": [
    {
     "data": {
      "image/png": "[encoded data removed]",
      "text/plain": [
       "<Figure size 432x288 with 1 Axes>"
      ]
     },
     "metadata": {
      "needs_background": "light"
     },
     "output_type": "display_data"
    },
    {
     "name": "stdout",
     "output_type": "stream",
     "text": [
      "Correlation Coefficient: 0.02138849763563592\n"
     ]
    }
   ],
   "source": [
    "#make a scatter between milage and price\n",
    "\n",
    "import matplotlib.pyplot as plt\n",
    "plt.scatter(df['milage'] , df['brand_price'], color='red')\n",
    "plt.title(\"Price by Odometer\")\n",
    "plt.xlabel(\"Odometer\")\n",
    "plt.ylabel(\"Price\")\n",
    "plt.show()\n",
    "\n",
    "\n",
    "correlation_coefficient = df[\"milage\"].corr(df['brand_price'])\n",
    "print(\"Correlation Coefficient:\", correlation_coefficient)\n"
   ]
  },
  {
   "cell_type": "markdown",
   "id": "19621131",
   "metadata": {},
   "source": [
    "This is an undefined relationship between odometer and price, meaning that there are a wide range of prices or each type of milage in the odometer. 140000 miles has sometimes up to 30,000 dollar cost, which is surprising. I had predicted before that the more milage cars would be on the less expensive range"
   ]
  },
  {
   "cell_type": "code",
   "execution_count": 28,
   "id": "f0c6a333",
   "metadata": {},
   "outputs": [
    {
     "data": {
      "image/png": "[encoded data removed]",
      "text/plain": [
       "<Figure size 432x288 with 1 Axes>"
      ]
     },
     "metadata": {
      "needs_background": "light"
     },
     "output_type": "display_data"
    }
   ],
   "source": [
    "#bar plot between price and brands\n",
    "\n",
    "# Group by 'Category' and calculate the sum of 'Value'\n",
    "grouped_vehicle_types = autos.groupby('vehicle_type', as_index=False).mean()\n",
    "# Sort the grouped DataFrame by 'Value' in descending order\n",
    "sorted_vehicle_types = grouped_vehicle_types.sort_values(by='price', ascending=False)\n",
    "\n",
    "plt.bar(grouped_vehicle_types['vehicle_type'], grouped_vehicle_types['price'], color='violet')\n",
    "plt.xticks(rotation = 45)\n",
    "plt.xlabel(\"Car type\")\n",
    "plt.ylabel(\"Price\")\n",
    "plt.title(\"Average Price per Vehicle Type\")\n",
    "plt.show()\n",
    "\n"
   ]
  },
  {
   "cell_type": "markdown",
   "id": "9dd3e8dd",
   "metadata": {},
   "source": [
    "It looks like the prices vary by vehicle type: SUV is the most expensive on average, cabrio, cupre and bus follow"
   ]
  },
  {
   "cell_type": "code",
   "execution_count": 29,
   "id": "ecfb72bf",
   "metadata": {
    "scrolled": true
   },
   "outputs": [
    {
     "data": {
      "image/png": "[encoded data removed]",
      "text/plain": [
       "<Figure size 432x288 with 1 Axes>"
      ]
     },
     "metadata": {
      "needs_background": "light"
     },
     "output_type": "display_data"
    },
    {
     "name": "stdout",
     "output_type": "stream",
     "text": [
      "Correlation Coefficient: 0.7696252666739318\n"
     ]
    }
   ],
   "source": [
    "autos = autos[autos['power_PS']<600]\n",
    "average_price = {}\n",
    "typed = autos[\"brand\"].unique()\n",
    "for b in typed:\n",
    "    selected_rows = autos[autos[\"brand\"] == b]\n",
    "    average_price[b] = round(selected_rows[\"price\"].mean(),2)\n",
    "price_series = pd.Series(average_price)\n",
    "\n",
    "average_ps = {}\n",
    "typed = autos[\"brand\"].unique()\n",
    "for b in typed:\n",
    "    selected_rows = autos[autos[\"brand\"] == b]\n",
    "    average_ps[b] = round(selected_rows[\"power_PS\"].mean(),2)\n",
    "ps_series = pd.Series(average_ps)\n",
    "\n",
    "df2 = pd.DataFrame(price_series, columns=['price'])\n",
    "df2[\"power\"] = ps_series\n",
    "\n",
    "plt.scatter(df2['power'] , df2['price'], color='blue', label='Data Points')\n",
    "plt.title(\"Horsepower versus Price\")       \n",
    "plt.xlabel(\"Horsepower\")\n",
    "plt.ylabel(\"Price\")\n",
    "plt.show()\n",
    "\n",
    "\n",
    "correlation_coefficient = df2[\"power\"].corr(df2['price'])\n",
    "print(\"Correlation Coefficient:\", correlation_coefficient)\n",
    "          \n"
   ]
  },
  {
   "cell_type": "markdown",
   "id": "2b4fd0cf",
   "metadata": {},
   "source": [
    "As per both the graph and correlation coefficient, there is a positive correlation between horsepower and price, meaning that brands with better horsepower are generally more expensive"
   ]
  },
  {
   "cell_type": "code",
   "execution_count": 30,
   "id": "f49a8253",
   "metadata": {},
   "outputs": [
    {
     "data": {
      "image/png": "[encoded data removed]",
      "text/plain": [
       "<Figure size 432x288 with 1 Axes>"
      ]
     },
     "metadata": {
      "needs_background": "light"
     },
     "output_type": "display_data"
    }
   ],
   "source": [
    "#bar plot between price and brands\n",
    "\n",
    "# Group by 'Category' and calculate the sum of 'Value'\n",
    "grouped_vehicle_types = autos.groupby('registration_year', as_index=False).mean()\n",
    "\n",
    "plt.plot(grouped_vehicle_types['registration_year'], grouped_vehicle_types['price'], color='skyblue')\n",
    "plt.xticks(rotation = 45)\n",
    "plt.title(\"Price by registration year\")\n",
    "plt.xlabel(\"Registration Year\")\n",
    "plt.ylabel(\"Price\")\n",
    "plt.show()"
   ]
  },
  {
   "cell_type": "markdown",
   "id": "afbd7aa3",
   "metadata": {},
   "source": [
    "As per the registration year by price graph, between 1950 and 1960 the prices are erratic, because sometimes \"vintage\" cars can be expensive. By 2000, prices slowly decline, then they go up after 2000. 1990 to 2000 registrations have the lowest price. "
   ]
  },
  {
   "cell_type": "code",
   "execution_count": 31,
   "id": "98ddb0e2",
   "metadata": {},
   "outputs": [
    {
     "name": "stdout",
     "output_type": "stream",
     "text": [
      "2083.9525468001743\n",
      "5165.032495147537\n",
      "The chi squared and pvalue:\n",
      "\n",
      "Ttest_indResult(statistic=35.846946443159666, pvalue=6.49210480085178e-278)\n"
     ]
    }
   ],
   "source": [
    "#significant difference between price and notRepairedDamage\\\n",
    "import scipy.stats as stats\n",
    "not_repaired = autos[autos[\"unrepaired_damage\"] == \"ja\"]\n",
    "print(not_repaired['price'].mean())\n",
    "print(autos['price'].mean())\n",
    "print(\"The chi squared and pvalue:\\n\")\n",
    "#chisquared, pvalue = chisquare([not_repaired['price'].mean(), autos['price'].mean()])\n",
    "finalstats = stats.ttest_ind(a=autos['price'], b=not_repaired['price'], equal_var=True)\n",
    "print(finalstats)"
   ]
  },
  {
   "cell_type": "markdown",
   "id": "3285905e",
   "metadata": {},
   "source": [
    "I used a t-test to determine if the mean price of cars with unrepaired damage is significantly different than the mean price of cars with either repaired or no damage. The p value is 6.49210480085178e-278, which means there is a significant difference between both datasets. Unrepaired damage severely affects the price of a car"
   ]
  },
  {
   "cell_type": "code",
   "execution_count": null,
   "id": "5c2a136c",
   "metadata": {},
   "outputs": [],
   "source": []
  },
  {
   "cell_type": "code",
   "execution_count": null,
   "id": "b62243d4",
   "metadata": {},
   "outputs": [],
   "source": []
  }
 ],
 "metadata": {
  "kernelspec": {
   "display_name": "Python 3 (ipykernel)",
   "language": "python",
   "name": "python3"
  },
  "language_info": {
   "codemirror_mode": {
    "name": "ipython",
    "version": 3
   },
   "file_extension": ".py",
   "mimetype": "text/x-python",
   "name": "python",
   "nbconvert_exporter": "python",
   "pygments_lexer": "ipython3",
   "version": "3.9.7"
  }
 },
 "nbformat": 4,
 "nbformat_minor": 5
}
